{
 "cells": [
  {
   "cell_type": "markdown",
   "metadata": {
    "id": "T8gPCG_PtzcT"
   },
   "source": [
    "# Notebook 1\n",
    "\n",
    "## Primeros pasos en cómputo científico\n",
    "\n",
    "#### Python 🐍\n",
    "\n",
    "> Dr. Ricardo Méndez Fragoso $\\mathbb{R} i \\vec c \\hbar$\n",
    "\n",
    "Comencemos con algunos ejemplos sobre la programación de funciones matemáticas que son de uso frecuente en cómputo científico. El objetivo es mostrar que se pueden programar funciones elementales con buena precisión y además podemos controlar esta última. Si bien es cierto que hay una gran cantidad de funciones programadas en los diferentes lenguajes de programación, es importante mostrar que siempre podemos tener el control sobre todo lo que necesitemos programar.\n",
    "\n",
    "Veamos un ejemplo concreto con la función $\\sin(x)$. El desarrollo de Taylor para la función $\\sin (x)$ cerca del 0 es:\n",
    "\n",
    "$$\n",
    "\\sin (x) = \\sum _{n=0} ^{\\infty} (-1)^n \\frac{x^{2n+1}}{(2n+1)!} = x - \\frac{x^3}{3!} + \\frac{x^5}{5!} + ... \n",
    "$$\n",
    "\n",
    "Sin embargo, en el caso computacional hay que truncar la serie hasta una cierta N que nos proporcione buena precisión en el intervalo deseado:\n",
    "$$\n",
    "\\sin (x) = \\sum _{n=0} ^{N} (-1)^n \\frac{x^{2n+1}}{(2n+1)!} = x - \\frac{x^3}{3!} + \\frac{x^5}{5!} + ... + (-1)^N\\frac{x^{2N+1}}{(2N+1)!}\n",
    "$$\n",
    "\n",
    "Antes de continuar tenemos que importar algunas bibliotecas útiles para su programación."
   ]
  },
  {
   "cell_type": "code",
   "execution_count": 1,
   "metadata": {
    "id": "prRSKPuytzcY"
   },
   "outputs": [],
   "source": [
    "from pylab import *"
   ]
  },
  {
   "cell_type": "markdown",
   "metadata": {
    "id": "ChRwjztRtzcZ"
   },
   "source": [
    "A continuación se programa la serie finita del $\\sin (x)$ en donde se han puesto por defecto que se calculen 10 términos en la serie:"
   ]
  },
  {
   "cell_type": "code",
   "execution_count": 2,
   "metadata": {
    "id": "a5FE3CSqtzcZ"
   },
   "outputs": [],
   "source": [
    "def mi_sin(x,N=9):\n",
    "    resultado  = 0\n",
    "    for n in range(N+1):\n",
    "        resultado += (-1)**n*((x**(2*n+1)) /math.factorial(2*n+1) )\n",
    "    return resultado"
   ]
  },
  {
   "cell_type": "markdown",
   "metadata": {
    "id": "z4i4-KZ9tzca"
   },
   "source": [
    "Note que el último término que se calcula es con `n=9`. Una vez que hemos programado `mi_sin()` podemos ver un ejemplo con $\\sin (\\pi/4)$ y verificar el funcionamiento de nuestro pequeño programa:"
   ]
  },
  {
   "cell_type": "code",
   "execution_count": 3,
   "metadata": {
    "colab": {
     "base_uri": "https://localhost:8080/"
    },
    "executionInfo": {
     "elapsed": 7,
     "status": "ok",
     "timestamp": 1663120685646,
     "user": {
      "displayName": "Ricardo Méndez Fragoso (Rich)",
      "userId": "00032713680015317397"
     },
     "user_tz": 300
    },
    "id": "BAV_aKtstzca",
    "outputId": "15b74671-2e59-456f-fda9-b2e04cca57c1"
   },
   "outputs": [
    {
     "data": {
      "text/plain": [
       "0.7071067811865475"
      ]
     },
     "execution_count": 3,
     "metadata": {},
     "output_type": "execute_result"
    }
   ],
   "source": [
    "mi_sin(pi/4)"
   ]
  },
  {
   "cell_type": "markdown",
   "metadata": {
    "id": "DcH5QSeDtzcb"
   },
   "source": [
    "También podemos cambiar la precisión a través del segundo parámetro. Con el siguiente ciclo `for` podemos ver como va convergiendo la función que programamos."
   ]
  },
  {
   "cell_type": "code",
   "execution_count": 4,
   "metadata": {
    "colab": {
     "base_uri": "https://localhost:8080/"
    },
    "executionInfo": {
     "elapsed": 5,
     "status": "ok",
     "timestamp": 1663120685646,
     "user": {
      "displayName": "Ricardo Méndez Fragoso (Rich)",
      "userId": "00032713680015317397"
     },
     "user_tz": 300
    },
    "id": "npEhUESvtzcc",
    "outputId": "39790ae6-4428-433b-b2e9-d8c4ec711f69"
   },
   "outputs": [
    {
     "name": "stdout",
     "output_type": "stream",
     "text": [
      "Resultado analítico:  0.7071067811865475\n",
      "Resultado con N=0:  0.7853981633974483\n",
      "Resultado con N=1:  0.7046526512091675\n",
      "Resultado con N=2:  0.7071430457793603\n",
      "Resultado con N=3:  0.7071064695751781\n",
      "Resultado con N=4:  0.7071067829368671\n",
      "Resultado con N=5:  0.7071067811796194\n",
      "Resultado con N=6:  0.7071067811865679\n",
      "Resultado con N=7:  0.7071067811865475\n",
      "Resultado con N=8:  0.7071067811865475\n",
      "Resultado con N=9:  0.7071067811865475\n"
     ]
    }
   ],
   "source": [
    "print(\"Resultado analítico: \", 1/sqrt(2))\n",
    "for i in range(10):\n",
    "    print(\"Resultado con N=%d: \" % i , mi_sin(pi/4,i) ) "
   ]
  },
  {
   "cell_type": "markdown",
   "metadata": {
    "id": "D3lSpZGDtzcc"
   },
   "source": [
    "Se puede apreciar que los últimos dos términos ya no cambian debido a que se ha convergido.\n",
    "\n",
    "También podemos probar la función para un conjunto de números:"
   ]
  },
  {
   "cell_type": "code",
   "execution_count": 5,
   "metadata": {
    "colab": {
     "base_uri": "https://localhost:8080/"
    },
    "executionInfo": {
     "elapsed": 4,
     "status": "ok",
     "timestamp": 1663120685646,
     "user": {
      "displayName": "Ricardo Méndez Fragoso (Rich)",
      "userId": "00032713680015317397"
     },
     "user_tz": 300
    },
    "id": "m40R6RC_tzcd",
    "outputId": "4d577faa-e94b-4fac-f704-63507030d2a9"
   },
   "outputs": [
    {
     "data": {
      "text/plain": [
       "array([ 0.        ,  0.12787716,  0.25365458,  0.375267  ,  0.49071755,\n",
       "        0.59811053,  0.69568255,  0.78183148,  0.85514276,  0.91441262,\n",
       "        0.95866785,  0.98718178,  0.99948622,  0.99537911,  0.97492791,\n",
       "        0.93846842,  0.88659931,  0.82017225,  0.740278  ,  0.6482284 ,\n",
       "        0.5455349 ,  0.43388374,  0.31510822,  0.19115863,  0.06407022,\n",
       "       -0.06407022, -0.19115863, -0.31510822, -0.43388375, -0.54553492,\n",
       "       -0.64822843, -0.74027807, -0.8201724 , -0.88659958, -0.93846893,\n",
       "       -0.97492884, -0.99538079, -0.99948918, -0.98718697, -0.95867678,\n",
       "       -0.91442777, -0.85516814, -0.78187347, -0.69575119, -0.59822147,\n",
       "       -0.4908949 , -0.37554759, -0.25409407, -0.12855901, -0.00104818])"
      ]
     },
     "execution_count": 5,
     "metadata": {},
     "output_type": "execute_result"
    }
   ],
   "source": [
    "x=linspace(0,2*pi)\n",
    "mi_sin(x)"
   ]
  },
  {
   "cell_type": "markdown",
   "metadata": {
    "id": "KgyfbPLBtzcd"
   },
   "source": [
    "Podemos comparar con la función `sin()` que viene programada en la biblioteca de math en **Python**. Para 20 puntos en el intervalo  $[0,\\pi/2]$ con 10 términos en la aproximación en la serie tenemos el siguiente resultado:"
   ]
  },
  {
   "cell_type": "code",
   "execution_count": 6,
   "metadata": {
    "colab": {
     "base_uri": "https://localhost:8080/"
    },
    "executionInfo": {
     "elapsed": 197,
     "status": "ok",
     "timestamp": 1663120685840,
     "user": {
      "displayName": "Ricardo Méndez Fragoso (Rich)",
      "userId": "00032713680015317397"
     },
     "user_tz": 300
    },
    "id": "1mYbhVeOtzce",
    "outputId": "932fa1d1-ea78-4649-fc2e-8321e1974302"
   },
   "outputs": [
    {
     "name": "stdout",
     "output_type": "stream",
     "text": [
      "[0.00000000e+00 1.38777878e-17 0.00000000e+00 0.00000000e+00\n",
      " 5.55111512e-17 5.55111512e-17 5.55111512e-17 1.11022302e-16\n",
      " 0.00000000e+00 0.00000000e+00 1.11022302e-16 0.00000000e+00\n",
      " 2.22044605e-16 1.11022302e-16 0.00000000e+00 1.11022302e-16\n",
      " 1.11022302e-16 2.22044605e-16 1.11022302e-16 0.00000000e+00]\n"
     ]
    }
   ],
   "source": [
    "x=linspace(0,pi/2,20)\n",
    "print(abs(sin(x) - mi_sin(x)) )"
   ]
  },
  {
   "cell_type": "markdown",
   "metadata": {
    "id": "LwZqHz3ztzce"
   },
   "source": [
    "Como se puede observar, la diferencia es cero o del orden de la precisión de la computadora. Esto nos da confianza en ver que lo que hemos programado funciona bastante bien en el intervalo $[0,\\pi/2]$. Cabe mencionar que con esta función es suficiente, ya que la periodicidad de la función se puede utilizar para calcular el valor de $\\sin(x)$ en cualquier otro intervalo módulo $\\pi / 2$ y su respectivo signo. Esta última condición si es considerada por la función que viene programada en Python. A continuación podemos ver que la aproximación de nuestra función se va separando de lo que debería suceder si no se toma en cuenta la última afirmación sobre el dominio de la función."
   ]
  },
  {
   "cell_type": "code",
   "execution_count": 7,
   "metadata": {
    "colab": {
     "base_uri": "https://localhost:8080/",
     "height": 283
    },
    "executionInfo": {
     "elapsed": 1106,
     "status": "ok",
     "timestamp": 1663120686945,
     "user": {
      "displayName": "Ricardo Méndez Fragoso (Rich)",
      "userId": "00032713680015317397"
     },
     "user_tz": 300
    },
    "id": "mlzT8eFytzce",
    "outputId": "4f7968e6-5635-4d02-a8f7-79282c1ae909"
   },
   "outputs": [
    {
     "data": {
      "image/png": "[encoded data removed]",
      "text/plain": [
       "<Figure size 640x480 with 1 Axes>"
      ]
     },
     "metadata": {},
     "output_type": "display_data"
    }
   ],
   "source": [
    "x=linspace(0,2*pi)\n",
    "for i in range(0,10,2):\n",
    "    plot(x,mi_sin(x,i),label=\"N=%d\" %i) \n",
    "plot(x,sin(x),\".-\",label=\"$\\sin(x)$\")\n",
    "title(\"Aproximación de $\\sin (x)$ para diferentes valores de $N$\")\n",
    "ylim([-1.1,1.1]),grid(),legend()\n",
    "show()"
   ]
  },
  {
   "cell_type": "markdown",
   "metadata": {
    "id": "73RlElvNtzcf"
   },
   "source": [
    "Finalmente, vamos a medir el tiempo de ejecución promedio que tarda la ejecución nuestra función y posteriormente lo compararemos con el tiempo que tarda la función programada en la biblioteca de math en **Python**. Para ello utilizamos el macro `%%timeit` de Jupyter como se muestra a continuación."
   ]
  },
  {
   "cell_type": "code",
   "execution_count": 8,
   "metadata": {
    "colab": {
     "base_uri": "https://localhost:8080/"
    },
    "executionInfo": {
     "elapsed": 1796,
     "status": "ok",
     "timestamp": 1663120688738,
     "user": {
      "displayName": "Ricardo Méndez Fragoso (Rich)",
      "userId": "00032713680015317397"
     },
     "user_tz": 300
    },
    "id": "m-dWgAoytzcf",
    "outputId": "01805636-4f24-47de-c4ad-8387ab6e86e2"
   },
   "outputs": [
    {
     "name": "stdout",
     "output_type": "stream",
     "text": [
      "3.03 µs ± 27.6 ns per loop (mean ± std. dev. of 7 runs, 100,000 loops each)\n"
     ]
    }
   ],
   "source": [
    "%%timeit\n",
    "mi_sin(pi/4)"
   ]
  },
  {
   "cell_type": "code",
   "execution_count": 9,
   "metadata": {
    "colab": {
     "base_uri": "https://localhost:8080/"
    },
    "executionInfo": {
     "elapsed": 1804,
     "status": "ok",
     "timestamp": 1663120690538,
     "user": {
      "displayName": "Ricardo Méndez Fragoso (Rich)",
      "userId": "00032713680015317397"
     },
     "user_tz": 300
    },
    "id": "tVskiJEMtzcf",
    "outputId": "3f2f343e-8b29-4965-faf1-33f20783d865"
   },
   "outputs": [
    {
     "name": "stdout",
     "output_type": "stream",
     "text": [
      "314 ns ± 5.51 ns per loop (mean ± std. dev. of 7 runs, 1,000,000 loops each)\n"
     ]
    }
   ],
   "source": [
    "%%timeit\n",
    "sin(pi/4)"
   ]
  },
  {
   "cell_type": "markdown",
   "metadata": {
    "id": "TVw6zm7ctzcg"
   },
   "source": [
    "Como se puede apreciar, el tiempo de ejecución de nuestra función es más lento. Esto se debe a que aún faltaría optimizar nuestra función, algo que se puede hacer con algunos de los conocimientos que se adquieren a lo largo de este curso. En muchas ocasiones esta optimización no es sencilla, pero existen diferentes técnicas que se pueden aplicar para lograr este tipo de objetivos y que se verán más adelante en el curso.\n",
    "\n",
    "[Regresar a la página del curso.](http://sistemas.fciencias.unam.mx/~rich/FisComp/)\n",
    "\n",
    "Se agradece el apoyo del proyecto DGAPA-PAPIME:\n",
    "\n",
    "+ PE 103021 nueva versión durante el año 2022. Versión interactiva en Colab.\n",
    "+ PE 112919 durante el año 2020. Idea original."
   ]
  }
 ],
 "metadata": {
  "colab": {
   "collapsed_sections": [],
   "provenance": []
  },
  "kernelspec": {
   "display_name": "Python 3 (ipykernel)",
   "language": "python",
   "name": "python3"
  },
  "language_info": {
   "codemirror_mode": {
    "name": "ipython",
    "version": 3
   },
   "file_extension": ".py",
   "mimetype": "text/x-python",
   "name": "python",
   "nbconvert_exporter": "python",
   "pygments_lexer": "ipython3",
   "version": "3.9.15"
  },
  "nteract": {
   "version": "0.25.1"
  }
 },
 "nbformat": 4,
 "nbformat_minor": 4
}
